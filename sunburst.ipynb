{
 "cells": [
  {
   "cell_type": "code",
   "execution_count": 3,
   "id": "6cd3ff36",
   "metadata": {},
   "outputs": [
    {
     "data": {
      "application/vnd.plotly.v1+json": {
       "config": {
        "plotlyServerURL": "https://plot.ly"
       },
       "data": [
        {
         "branchvalues": "total",
         "domain": {
          "x": [
           0,
           1
          ],
          "y": [
           0,
           1
          ]
         },
         "hovertemplate": "labels=%{label}<br>Percentage=%{value}<br>parent=%{parent}<br>id=%{id}<extra></extra>",
         "ids": [
          "Discovery/Consuming information/AI-assisted reading and summarization",
          "Analysis/Mapping data/Access to and assistance with GIS software and programming",
          "Analysis/Performing network visualization and analysis/Access to and assistance with network visualization software (Gephi, Cytoscape) and programming (Python, R)",
          "Analysis/Coding qualitative data/Access to and assistance with qualitative coding software (Nvivo)",
          "Analysis/Applying a statistical model/Access to and assistance with statistical software and programming (SAS, SPSS, Stata, R, Python)",
          "Implementation/Conducting humanities-based research, including archival, DH/Access to and guidance navigating archival collections, text corpora",
          "Discovery/Storing lessons learned and making connections to prior knowledge/Access to and training for note-taking and annotation software such as PowerNotes, Obsidian, Zotero",
          "Discovery/Access to published research/Access to library collections",
          "Application/Incorporating findings into product design/Applying for patents",
          "Publishing/Considering alternative publishing formats and locations - digital/Audiovisual production services in Vitale and the Hechtman Studio",
          "Evaluation/Assessing impact of scholarship/Bibliometrics services",
          "Analysis/Transcribing media for text analysis/Choosing transcription tools and services based on affordability, accuracy, and privacy implications",
          "Writing/Attributions/Citation management software workshops and consults",
          "Publishing/Considering alternative publishing formats and locations - physical (zines, small print runs)/Common Press workshops and open hours",
          "Discovery/Locating relevant published research/Conducting systematic review searches",
          "Planning/Forming a research question/Consultation with subject librarians",
          "Implementation/Conducting surveys, interviews, or observations/Consults and workshops on file organization, privacy, and more",
          "Implementation/Conducting surveys, interviews, or observations/Consults on survey software, e.g. Qualtrics",
          "Publishing/Considering alternative publishing formats and locations - digital/Contemporary publishing fellow supports development of multimodal, interactive digital publications and exhibits",
          "Discovery/Locating relevant published research/Credibility evaluation assistance",
          "Implementation/Screening compiled studies for reviews and meta-analyses/Critical appraisal support",
          "Promotion/Sharing through visualizations and dashboards/Data visualization services",
          "Analysis/Using data visualizations as analytic method (e.g. topological analysis)/Data visualization services",
          "Planning/Setting up documentation infrastructure/Documenting search strategy for systematic reviews; documentation of search methods; using documentation areas on GitHub; planning for documentation of archival findings",
          "Writing/Writing ethics statements/Evaluating and promoting tools such as EthicsGen - Ethics Statement Generator tool",
          "Preservation/Storing and preserving print/Faculty archival deposit at the University Archives",
          "Planning/Preregistering studies/Finding and using protocol registries",
          "Promotion/Presenting work at conferences, workshops, and other forums/Graphic design software and access to tutorials",
          "Application/Incorporating findings into product design/Guidance on market and industry research for product markets",
          "Implementation/Recruiting and tracking research subjects/Guidance on participant information management systems (Qualtrics, RedCap)",
          "Planning/Connect with new collaborators/Identification of tools and systems which easily permit collaboration during later phases of research (e.g. QDA software comparison table)",
          "Application/Incorporating findings into product design/Identify products coming out of Penn research facilities and centers",
          "Discovery/Locating relevant published research/Incorporating AI and innovative discovery tools into workflow (e.g. R workshop on libsearchr)",
          "Writing/Formatting/LaTeX workshops, consults, and templates",
          "Publishing/Navigating image permissions/LibGuides and consults from the Copyright Advisor",
          "Planning/Asking the Libraries to acquire licensed datasets/Licensed data storage solutions (Box, Redivis) are currently under exploration by one of the strategic teams",
          "Preservation/Preserving the digital scholarly record/Membership in digital preservation services (LOCKSS, CLOCKSS, Portico)",
          "Implementation/Compiling or acquiring datasets/Navigating complex, large, and unusual file types (bioinformatics, neuroimaging, electronic health records, census data)",
          "Analysis/Choosing a statistical model/None",
          "Implementation/Conducting experimental research and trials/None",
          "Planning/Constructing and documenting a rigorous and reproducible methodology/None",
          "Writing/Copyediting/None",
          "Writing/Ethically incorporating AI in writing/None",
          "Application/Incorporating findings into clinical decision-making/None",
          "Application/Incorporating findings into disciplinary evidence-based practice/None",
          "Application/Incorporating findings into policy and legislation/None",
          "Promotion/Incorporating scholarship into tenure and promotion packages/None",
          "Writing/Integrating notes and original research to produce final product/None",
          "Publishing/Navigating publisher requirements (ORCID, funding disclosures, CREDIT, data availability)/None",
          "Publishing/Participating in peer review and editorial roles/None",
          "Analysis/Performing meta-analyses/None",
          "Evaluation/Reflecting on future improvements/None",
          "Planning/Requesting access to secure datasets/None",
          "Implementation/Running simulations and models/None",
          "Planning/Securing IRB approval/None",
          "Promotion/Sharing through public writing/None",
          "Promotion/Sharing through social media/None",
          "Analysis/Traditional text analysis (Close reading)/None",
          "Application/Translational research/None",
          "Implementation/Using specialized research equipment and software/None",
          "Publishing/Controlling authority management/ORCID workshops and consults",
          "Promotion/Presenting work at conferences, workshops, and other forums/Poster printing and design service",
          "Planning/Brainstorming and ideation/Providing spaces condusive to brainstorming",
          "Planning/Connect with new collaborators/RDDS-hosted skills meetups",
          "Discovery/Access to published research/Resource sharing",
          "Preservation/Depositing data and scholarship for long-term storage/ScholarlyCommons and institutional repositorites",
          "Implementation/Compiling or acquiring datasets/Scraping open data and websites",
          "Discovery/Consuming information/Spaces for journal clubs and reading groups",
          "Preservation/Depositing data and scholarship for long-term storage/Subscriptions and memberships to external repositories (Dryad, QDR, ICPSR)",
          "Implementation/Compiling or acquiring datasets/Support accessing APIs and constructing API calls",
          "Implementation/Screening compiled studies for reviews and meta-analyses/Support for Covidence, RevMan",
          "Planning/Writing grant proposals/Support for maintaining biosketches on SciENcv and other tools which feed into grant applications",
          "Planning/Planning for data management and sharing/Support for writing data management sharing plans",
          "Planning/Writing grant proposals/Support for writing data management sharing plans",
          "Planning/Identifying funding opportunities/Support navigating funding databases",
          "Discovery/Locating relevant published research/Traditional search construction assistance",
          "Planning/Identifying funding opportunities/Transformative agreements for APCs",
          "Publishing/Paying APCs/Transformative agreements for APCs",
          "Writing/Originality and avoiding plagiarism/TurnItIn software",
          "Implementation/Creating prototypes and objects/Use of 3D scanning, sketch software, and printing",
          "Planning/Connect with new collaborators/Use of citation databases to find academic collaborators ",
          "Planning/Connect with new collaborators/Use of nonprofit databases and news sources to find local community partners",
          "Publishing/Choosing license types, including Creative Commons licenses/Workshops and consults from the Copyright Advisor",
          "Publishing/Negotiating author agreements/Workshops and consults from the Copyright Advisor",
          "Publishing/Understanding copyright issues/Workshops and consults from the Copyright Advisor",
          "Publishing/Meeting OA requirements/Workshops and consults on OA publishers and depositing preprints",
          "Publishing/Determining where to publish/Workshops and consults on evaluating publishing outlets for relevance and quality",
          "Analysis/Computational text analysis/Workshops and consults on text analysis tools and methods: topic modeling, text frequency, using NLP models",
          "Analysis/Cleaning data/Workshops and consults on using data cleaning principles, tools (OpenRefine, Excel) and programming methods (Python, R)",
          "Planning/Reporting international collaborations and funding/[external] Guidance on disclosures from OVPR and Penn Global",
          "Planning/Setting up electronic research notebooks/[external] LabArchives support",
          "Planning/Considering ethics in research design/[external] Training for working with vulnerable populations (minors, people with disabilities, populations in poverty)",
          "Writing/Originality and avoiding plagiarism/[external] Weingarten &CSA workshops in avoiding plagiarism ",
          "Publishing/Screening for fabricated data and fraud/[idea] [external] Universities have an opportunity to help conduct pre-emptive fraud screening, especially for junior co-authors",
          "Discovery/Access to published research",
          "Analysis/Applying a statistical model",
          "Planning/Asking the Libraries to acquire licensed datasets",
          "Evaluation/Assessing impact of scholarship",
          "Writing/Attributions",
          "Planning/Brainstorming and ideation",
          "Analysis/Choosing a statistical model",
          "Publishing/Choosing license types, including Creative Commons licenses",
          "Analysis/Cleaning data",
          "Analysis/Coding qualitative data",
          "Implementation/Compiling or acquiring datasets",
          "Analysis/Computational text analysis",
          "Implementation/Conducting experimental research and trials",
          "Implementation/Conducting humanities-based research, including archival, DH",
          "Implementation/Conducting surveys, interviews, or observations",
          "Planning/Connect with new collaborators",
          "Publishing/Considering alternative publishing formats and locations - digital",
          "Publishing/Considering alternative publishing formats and locations - physical (zines, small print runs)",
          "Planning/Considering ethics in research design",
          "Planning/Constructing and documenting a rigorous and reproducible methodology",
          "Discovery/Consuming information",
          "Publishing/Controlling authority management",
          "Writing/Copyediting",
          "Implementation/Creating prototypes and objects",
          "Preservation/Depositing data and scholarship for long-term storage",
          "Publishing/Determining where to publish",
          "Writing/Ethically incorporating AI in writing",
          "Writing/Formatting",
          "Planning/Forming a research question",
          "Planning/Identifying funding opportunities",
          "Application/Incorporating findings into clinical decision-making",
          "Application/Incorporating findings into disciplinary evidence-based practice",
          "Application/Incorporating findings into policy and legislation",
          "Application/Incorporating findings into product design",
          "Promotion/Incorporating scholarship into tenure and promotion packages",
          "Writing/Integrating notes and original research to produce final product",
          "Discovery/Locating relevant published research",
          "Analysis/Mapping data",
          "Publishing/Meeting OA requirements",
          "Publishing/Navigating image permissions",
          "Publishing/Navigating publisher requirements (ORCID, funding disclosures, CREDIT, data availability)",
          "Publishing/Negotiating author agreements",
          "Writing/Originality and avoiding plagiarism",
          "Publishing/Participating in peer review and editorial roles",
          "Publishing/Paying APCs",
          "Analysis/Performing meta-analyses",
          "Analysis/Performing network visualization and analysis",
          "Planning/Planning for data management and sharing",
          "Planning/Preregistering studies",
          "Promotion/Presenting work at conferences, workshops, and other forums",
          "Preservation/Preserving the digital scholarly record",
          "Implementation/Recruiting and tracking research subjects",
          "Evaluation/Reflecting on future improvements",
          "Planning/Reporting international collaborations and funding",
          "Planning/Requesting access to secure datasets",
          "Implementation/Running simulations and models",
          "Implementation/Screening compiled studies for reviews and meta-analyses",
          "Publishing/Screening for fabricated data and fraud",
          "Planning/Securing IRB approval",
          "Planning/Setting up documentation infrastructure",
          "Planning/Setting up electronic research notebooks",
          "Promotion/Sharing through public writing",
          "Promotion/Sharing through social media",
          "Promotion/Sharing through visualizations and dashboards",
          "Preservation/Storing and preserving print",
          "Discovery/Storing lessons learned and making connections to prior knowledge",
          "Analysis/Traditional text analysis (Close reading)",
          "Analysis/Transcribing media for text analysis",
          "Application/Translational research",
          "Publishing/Understanding copyright issues",
          "Analysis/Using data visualizations as analytic method (e.g. topological analysis)",
          "Implementation/Using specialized research equipment and software",
          "Writing/Writing ethics statements",
          "Planning/Writing grant proposals",
          "Analysis",
          "Application",
          "Discovery",
          "Evaluation",
          "Implementation",
          "Planning",
          "Preservation",
          "Promotion",
          "Publishing",
          "Writing"
         ],
         "labels": [
          "AI-assisted reading and summarization",
          "Access to and assistance with GIS software and programming",
          "Access to and assistance with network visualization software (Gephi, Cytoscape) and programming (Python, R)",
          "Access to and assistance with qualitative coding software (Nvivo)",
          "Access to and assistance with statistical software and programming (SAS, SPSS, Stata, R, Python)",
          "Access to and guidance navigating archival collections, text corpora",
          "Access to and training for note-taking and annotation software such as PowerNotes, Obsidian, Zotero",
          "Access to library collections",
          "Applying for patents",
          "Audiovisual production services in Vitale and the Hechtman Studio",
          "Bibliometrics services",
          "Choosing transcription tools and services based on affordability, accuracy, and privacy implications",
          "Citation management software workshops and consults",
          "Common Press workshops and open hours",
          "Conducting systematic review searches",
          "Consultation with subject librarians",
          "Consults and workshops on file organization, privacy, and more",
          "Consults on survey software, e.g. Qualtrics",
          "Contemporary publishing fellow supports development of multimodal, interactive digital publications and exhibits",
          "Credibility evaluation assistance",
          "Critical appraisal support",
          "Data visualization services",
          "Data visualization services",
          "Documenting search strategy for systematic reviews; documentation of search methods; using documentation areas on GitHub; planning for documentation of archival findings",
          "Evaluating and promoting tools such as EthicsGen - Ethics Statement Generator tool",
          "Faculty archival deposit at the University Archives",
          "Finding and using protocol registries",
          "Graphic design software and access to tutorials",
          "Guidance on market and industry research for product markets",
          "Guidance on participant information management systems (Qualtrics, RedCap)",
          "Identification of tools and systems which easily permit collaboration during later phases of research (e.g. QDA software comparison table)",
          "Identify products coming out of Penn research facilities and centers",
          "Incorporating AI and innovative discovery tools into workflow (e.g. R workshop on libsearchr)",
          "LaTeX workshops, consults, and templates",
          "LibGuides and consults from the Copyright Advisor",
          "Licensed data storage solutions (Box, Redivis) are currently under exploration by one of the strategic teams",
          "Membership in digital preservation services (LOCKSS, CLOCKSS, Portico)",
          "Navigating complex, large, and unusual file types (bioinformatics, neuroimaging, electronic health records, census data)",
          "None",
          "None",
          "None",
          "None",
          "None",
          "None",
          "None",
          "None",
          "None",
          "None",
          "None",
          "None",
          "None",
          "None",
          "None",
          "None",
          "None",
          "None",
          "None",
          "None",
          "None",
          "None",
          "ORCID workshops and consults",
          "Poster printing and design service",
          "Providing spaces condusive to brainstorming",
          "RDDS-hosted skills meetups",
          "Resource sharing",
          "ScholarlyCommons and institutional repositorites",
          "Scraping open data and websites",
          "Spaces for journal clubs and reading groups",
          "Subscriptions and memberships to external repositories (Dryad, QDR, ICPSR)",
          "Support accessing APIs and constructing API calls",
          "Support for Covidence, RevMan",
          "Support for maintaining biosketches on SciENcv and other tools which feed into grant applications",
          "Support for writing data management sharing plans",
          "Support for writing data management sharing plans",
          "Support navigating funding databases",
          "Traditional search construction assistance",
          "Transformative agreements for APCs",
          "Transformative agreements for APCs",
          "TurnItIn software",
          "Use of 3D scanning, sketch software, and printing",
          "Use of citation databases to find academic collaborators ",
          "Use of nonprofit databases and news sources to find local community partners",
          "Workshops and consults from the Copyright Advisor",
          "Workshops and consults from the Copyright Advisor",
          "Workshops and consults from the Copyright Advisor",
          "Workshops and consults on OA publishers and depositing preprints",
          "Workshops and consults on evaluating publishing outlets for relevance and quality",
          "Workshops and consults on text analysis tools and methods: topic modeling, text frequency, using NLP models",
          "Workshops and consults on using data cleaning principles, tools (OpenRefine, Excel) and programming methods (Python, R)",
          "[external] Guidance on disclosures from OVPR and Penn Global",
          "[external] LabArchives support",
          "[external] Training for working with vulnerable populations (minors, people with disabilities, populations in poverty)",
          "[external] Weingarten &CSA workshops in avoiding plagiarism ",
          "[idea] [external] Universities have an opportunity to help conduct pre-emptive fraud screening, especially for junior co-authors",
          "Access to published research",
          "Applying a statistical model",
          "Asking the Libraries to acquire licensed datasets",
          "Assessing impact of scholarship",
          "Attributions",
          "Brainstorming and ideation",
          "Choosing a statistical model",
          "Choosing license types, including Creative Commons licenses",
          "Cleaning data",
          "Coding qualitative data",
          "Compiling or acquiring datasets",
          "Computational text analysis",
          "Conducting experimental research and trials",
          "Conducting humanities-based research, including archival, DH",
          "Conducting surveys, interviews, or observations",
          "Connect with new collaborators",
          "Considering alternative publishing formats and locations - digital",
          "Considering alternative publishing formats and locations - physical (zines, small print runs)",
          "Considering ethics in research design",
          "Constructing and documenting a rigorous and reproducible methodology",
          "Consuming information",
          "Controlling authority management",
          "Copyediting",
          "Creating prototypes and objects",
          "Depositing data and scholarship for long-term storage",
          "Determining where to publish",
          "Ethically incorporating AI in writing",
          "Formatting",
          "Forming a research question",
          "Identifying funding opportunities",
          "Incorporating findings into clinical decision-making",
          "Incorporating findings into disciplinary evidence-based practice",
          "Incorporating findings into policy and legislation",
          "Incorporating findings into product design",
          "Incorporating scholarship into tenure and promotion packages",
          "Integrating notes and original research to produce final product",
          "Locating relevant published research",
          "Mapping data",
          "Meeting OA requirements",
          "Navigating image permissions",
          "Navigating publisher requirements (ORCID, funding disclosures, CREDIT, data availability)",
          "Negotiating author agreements",
          "Originality and avoiding plagiarism",
          "Participating in peer review and editorial roles",
          "Paying APCs",
          "Performing meta-analyses",
          "Performing network visualization and analysis",
          "Planning for data management and sharing",
          "Preregistering studies",
          "Presenting work at conferences, workshops, and other forums",
          "Preserving the digital scholarly record",
          "Recruiting and tracking research subjects",
          "Reflecting on future improvements",
          "Reporting international collaborations and funding",
          "Requesting access to secure datasets",
          "Running simulations and models",
          "Screening compiled studies for reviews and meta-analyses",
          "Screening for fabricated data and fraud",
          "Securing IRB approval",
          "Setting up documentation infrastructure",
          "Setting up electronic research notebooks",
          "Sharing through public writing",
          "Sharing through social media",
          "Sharing through visualizations and dashboards",
          "Storing and preserving print",
          "Storing lessons learned and making connections to prior knowledge",
          "Traditional text analysis (Close reading)",
          "Transcribing media for text analysis",
          "Translational research",
          "Understanding copyright issues",
          "Using data visualizations as analytic method (e.g. topological analysis)",
          "Using specialized research equipment and software",
          "Writing ethics statements",
          "Writing grant proposals",
          "Analysis",
          "Application",
          "Discovery",
          "Evaluation",
          "Implementation",
          "Planning",
          "Preservation",
          "Promotion",
          "Publishing",
          "Writing"
         ],
         "name": "",
         "parents": [
          "Discovery/Consuming information",
          "Analysis/Mapping data",
          "Analysis/Performing network visualization and analysis",
          "Analysis/Coding qualitative data",
          "Analysis/Applying a statistical model",
          "Implementation/Conducting humanities-based research, including archival, DH",
          "Discovery/Storing lessons learned and making connections to prior knowledge",
          "Discovery/Access to published research",
          "Application/Incorporating findings into product design",
          "Publishing/Considering alternative publishing formats and locations - digital",
          "Evaluation/Assessing impact of scholarship",
          "Analysis/Transcribing media for text analysis",
          "Writing/Attributions",
          "Publishing/Considering alternative publishing formats and locations - physical (zines, small print runs)",
          "Discovery/Locating relevant published research",
          "Planning/Forming a research question",
          "Implementation/Conducting surveys, interviews, or observations",
          "Implementation/Conducting surveys, interviews, or observations",
          "Publishing/Considering alternative publishing formats and locations - digital",
          "Discovery/Locating relevant published research",
          "Implementation/Screening compiled studies for reviews and meta-analyses",
          "Promotion/Sharing through visualizations and dashboards",
          "Analysis/Using data visualizations as analytic method (e.g. topological analysis)",
          "Planning/Setting up documentation infrastructure",
          "Writing/Writing ethics statements",
          "Preservation/Storing and preserving print",
          "Planning/Preregistering studies",
          "Promotion/Presenting work at conferences, workshops, and other forums",
          "Application/Incorporating findings into product design",
          "Implementation/Recruiting and tracking research subjects",
          "Planning/Connect with new collaborators",
          "Application/Incorporating findings into product design",
          "Discovery/Locating relevant published research",
          "Writing/Formatting",
          "Publishing/Navigating image permissions",
          "Planning/Asking the Libraries to acquire licensed datasets",
          "Preservation/Preserving the digital scholarly record",
          "Implementation/Compiling or acquiring datasets",
          "Analysis/Choosing a statistical model",
          "Implementation/Conducting experimental research and trials",
          "Planning/Constructing and documenting a rigorous and reproducible methodology",
          "Writing/Copyediting",
          "Writing/Ethically incorporating AI in writing",
          "Application/Incorporating findings into clinical decision-making",
          "Application/Incorporating findings into disciplinary evidence-based practice",
          "Application/Incorporating findings into policy and legislation",
          "Promotion/Incorporating scholarship into tenure and promotion packages",
          "Writing/Integrating notes and original research to produce final product",
          "Publishing/Navigating publisher requirements (ORCID, funding disclosures, CREDIT, data availability)",
          "Publishing/Participating in peer review and editorial roles",
          "Analysis/Performing meta-analyses",
          "Evaluation/Reflecting on future improvements",
          "Planning/Requesting access to secure datasets",
          "Implementation/Running simulations and models",
          "Planning/Securing IRB approval",
          "Promotion/Sharing through public writing",
          "Promotion/Sharing through social media",
          "Analysis/Traditional text analysis (Close reading)",
          "Application/Translational research",
          "Implementation/Using specialized research equipment and software",
          "Publishing/Controlling authority management",
          "Promotion/Presenting work at conferences, workshops, and other forums",
          "Planning/Brainstorming and ideation",
          "Planning/Connect with new collaborators",
          "Discovery/Access to published research",
          "Preservation/Depositing data and scholarship for long-term storage",
          "Implementation/Compiling or acquiring datasets",
          "Discovery/Consuming information",
          "Preservation/Depositing data and scholarship for long-term storage",
          "Implementation/Compiling or acquiring datasets",
          "Implementation/Screening compiled studies for reviews and meta-analyses",
          "Planning/Writing grant proposals",
          "Planning/Planning for data management and sharing",
          "Planning/Writing grant proposals",
          "Planning/Identifying funding opportunities",
          "Discovery/Locating relevant published research",
          "Planning/Identifying funding opportunities",
          "Publishing/Paying APCs",
          "Writing/Originality and avoiding plagiarism",
          "Implementation/Creating prototypes and objects",
          "Planning/Connect with new collaborators",
          "Planning/Connect with new collaborators",
          "Publishing/Choosing license types, including Creative Commons licenses",
          "Publishing/Negotiating author agreements",
          "Publishing/Understanding copyright issues",
          "Publishing/Meeting OA requirements",
          "Publishing/Determining where to publish",
          "Analysis/Computational text analysis",
          "Analysis/Cleaning data",
          "Planning/Reporting international collaborations and funding",
          "Planning/Setting up electronic research notebooks",
          "Planning/Considering ethics in research design",
          "Writing/Originality and avoiding plagiarism",
          "Publishing/Screening for fabricated data and fraud",
          "Discovery",
          "Analysis",
          "Planning",
          "Evaluation",
          "Writing",
          "Planning",
          "Analysis",
          "Publishing",
          "Analysis",
          "Analysis",
          "Implementation",
          "Analysis",
          "Implementation",
          "Implementation",
          "Implementation",
          "Planning",
          "Publishing",
          "Publishing",
          "Planning",
          "Planning",
          "Discovery",
          "Publishing",
          "Writing",
          "Implementation",
          "Preservation",
          "Publishing",
          "Writing",
          "Writing",
          "Planning",
          "Planning",
          "Application",
          "Application",
          "Application",
          "Application",
          "Promotion",
          "Writing",
          "Discovery",
          "Analysis",
          "Publishing",
          "Publishing",
          "Publishing",
          "Publishing",
          "Writing",
          "Publishing",
          "Publishing",
          "Analysis",
          "Analysis",
          "Planning",
          "Planning",
          "Promotion",
          "Preservation",
          "Implementation",
          "Evaluation",
          "Planning",
          "Planning",
          "Implementation",
          "Implementation",
          "Publishing",
          "Planning",
          "Planning",
          "Planning",
          "Promotion",
          "Promotion",
          "Promotion",
          "Preservation",
          "Discovery",
          "Analysis",
          "Analysis",
          "Application",
          "Publishing",
          "Analysis",
          "Implementation",
          "Writing",
          "Planning",
          "",
          "",
          "",
          "",
          "",
          "",
          "",
          "",
          "",
          ""
         ],
         "type": "sunburst",
         "values": [
          1,
          1,
          1,
          1,
          1,
          1,
          1,
          1,
          1,
          1,
          1,
          1,
          1,
          1,
          1,
          1,
          1,
          1,
          1,
          1,
          1,
          1,
          1,
          1,
          1,
          1,
          1,
          1,
          1,
          1,
          1,
          1,
          1,
          1,
          1,
          1,
          1,
          1,
          0,
          0,
          0,
          0,
          0,
          0,
          0,
          0,
          0,
          0,
          0,
          0,
          0,
          1,
          0,
          0,
          0,
          0,
          0,
          0,
          0,
          0,
          1,
          1,
          1,
          1,
          1,
          1,
          1,
          1,
          1,
          1,
          1,
          1,
          1,
          1,
          1,
          1,
          1,
          1,
          1,
          1,
          1,
          1,
          1,
          1,
          1,
          1,
          1,
          1,
          1,
          1,
          1,
          1,
          1,
          1,
          2,
          1,
          1,
          1,
          1,
          1,
          0,
          1,
          1,
          1,
          3,
          1,
          0,
          1,
          2,
          4,
          2,
          1,
          1,
          0,
          2,
          1,
          0,
          1,
          2,
          1,
          0,
          1,
          1,
          2,
          0,
          0,
          0,
          3,
          0,
          0,
          4,
          1,
          1,
          1,
          0,
          1,
          2,
          0,
          1,
          0,
          1,
          1,
          1,
          2,
          1,
          1,
          1,
          1,
          0,
          0,
          2,
          1,
          0,
          1,
          1,
          0,
          0,
          1,
          1,
          1,
          0,
          1,
          0,
          1,
          1,
          0,
          1,
          2,
          8,
          3,
          9,
          2,
          10,
          17,
          4,
          3,
          12,
          5
         ]
        }
       ],
       "layout": {
        "height": 800,
        "legend": {
         "tracegroupgap": 0
        },
        "template": {
         "data": {
          "bar": [
           {
            "error_x": {
             "color": "#2a3f5f"
            },
            "error_y": {
             "color": "#2a3f5f"
            },
            "marker": {
             "line": {
              "color": "#E5ECF6",
              "width": 0.5
             },
             "pattern": {
              "fillmode": "overlay",
              "size": 10,
              "solidity": 0.2
             }
            },
            "type": "bar"
           }
          ],
          "barpolar": [
           {
            "marker": {
             "line": {
              "color": "#E5ECF6",
              "width": 0.5
             },
             "pattern": {
              "fillmode": "overlay",
              "size": 10,
              "solidity": 0.2
             }
            },
            "type": "barpolar"
           }
          ],
          "carpet": [
           {
            "aaxis": {
             "endlinecolor": "#2a3f5f",
             "gridcolor": "white",
             "linecolor": "white",
             "minorgridcolor": "white",
             "startlinecolor": "#2a3f5f"
            },
            "baxis": {
             "endlinecolor": "#2a3f5f",
             "gridcolor": "white",
             "linecolor": "white",
             "minorgridcolor": "white",
             "startlinecolor": "#2a3f5f"
            },
            "type": "carpet"
           }
          ],
          "choropleth": [
           {
            "colorbar": {
             "outlinewidth": 0,
             "ticks": ""
            },
            "type": "choropleth"
           }
          ],
          "contour": [
           {
            "colorbar": {
             "outlinewidth": 0,
             "ticks": ""
            },
            "colorscale": [
             [
              0,
              "#0d0887"
             ],
             [
              0.1111111111111111,
              "#46039f"
             ],
             [
              0.2222222222222222,
              "#7201a8"
             ],
             [
              0.3333333333333333,
              "#9c179e"
             ],
             [
              0.4444444444444444,
              "#bd3786"
             ],
             [
              0.5555555555555556,
              "#d8576b"
             ],
             [
              0.6666666666666666,
              "#ed7953"
             ],
             [
              0.7777777777777778,
              "#fb9f3a"
             ],
             [
              0.8888888888888888,
              "#fdca26"
             ],
             [
              1,
              "#f0f921"
             ]
            ],
            "type": "contour"
           }
          ],
          "contourcarpet": [
           {
            "colorbar": {
             "outlinewidth": 0,
             "ticks": ""
            },
            "type": "contourcarpet"
           }
          ],
          "heatmap": [
           {
            "colorbar": {
             "outlinewidth": 0,
             "ticks": ""
            },
            "colorscale": [
             [
              0,
              "#0d0887"
             ],
             [
              0.1111111111111111,
              "#46039f"
             ],
             [
              0.2222222222222222,
              "#7201a8"
             ],
             [
              0.3333333333333333,
              "#9c179e"
             ],
             [
              0.4444444444444444,
              "#bd3786"
             ],
             [
              0.5555555555555556,
              "#d8576b"
             ],
             [
              0.6666666666666666,
              "#ed7953"
             ],
             [
              0.7777777777777778,
              "#fb9f3a"
             ],
             [
              0.8888888888888888,
              "#fdca26"
             ],
             [
              1,
              "#f0f921"
             ]
            ],
            "type": "heatmap"
           }
          ],
          "heatmapgl": [
           {
            "colorbar": {
             "outlinewidth": 0,
             "ticks": ""
            },
            "colorscale": [
             [
              0,
              "#0d0887"
             ],
             [
              0.1111111111111111,
              "#46039f"
             ],
             [
              0.2222222222222222,
              "#7201a8"
             ],
             [
              0.3333333333333333,
              "#9c179e"
             ],
             [
              0.4444444444444444,
              "#bd3786"
             ],
             [
              0.5555555555555556,
              "#d8576b"
             ],
             [
              0.6666666666666666,
              "#ed7953"
             ],
             [
              0.7777777777777778,
              "#fb9f3a"
             ],
             [
              0.8888888888888888,
              "#fdca26"
             ],
             [
              1,
              "#f0f921"
             ]
            ],
            "type": "heatmapgl"
           }
          ],
          "histogram": [
           {
            "marker": {
             "pattern": {
              "fillmode": "overlay",
              "size": 10,
              "solidity": 0.2
             }
            },
            "type": "histogram"
           }
          ],
          "histogram2d": [
           {
            "colorbar": {
             "outlinewidth": 0,
             "ticks": ""
            },
            "colorscale": [
             [
              0,
              "#0d0887"
             ],
             [
              0.1111111111111111,
              "#46039f"
             ],
             [
              0.2222222222222222,
              "#7201a8"
             ],
             [
              0.3333333333333333,
              "#9c179e"
             ],
             [
              0.4444444444444444,
              "#bd3786"
             ],
             [
              0.5555555555555556,
              "#d8576b"
             ],
             [
              0.6666666666666666,
              "#ed7953"
             ],
             [
              0.7777777777777778,
              "#fb9f3a"
             ],
             [
              0.8888888888888888,
              "#fdca26"
             ],
             [
              1,
              "#f0f921"
             ]
            ],
            "type": "histogram2d"
           }
          ],
          "histogram2dcontour": [
           {
            "colorbar": {
             "outlinewidth": 0,
             "ticks": ""
            },
            "colorscale": [
             [
              0,
              "#0d0887"
             ],
             [
              0.1111111111111111,
              "#46039f"
             ],
             [
              0.2222222222222222,
              "#7201a8"
             ],
             [
              0.3333333333333333,
              "#9c179e"
             ],
             [
              0.4444444444444444,
              "#bd3786"
             ],
             [
              0.5555555555555556,
              "#d8576b"
             ],
             [
              0.6666666666666666,
              "#ed7953"
             ],
             [
              0.7777777777777778,
              "#fb9f3a"
             ],
             [
              0.8888888888888888,
              "#fdca26"
             ],
             [
              1,
              "#f0f921"
             ]
            ],
            "type": "histogram2dcontour"
           }
          ],
          "mesh3d": [
           {
            "colorbar": {
             "outlinewidth": 0,
             "ticks": ""
            },
            "type": "mesh3d"
           }
          ],
          "parcoords": [
           {
            "line": {
             "colorbar": {
              "outlinewidth": 0,
              "ticks": ""
             }
            },
            "type": "parcoords"
           }
          ],
          "pie": [
           {
            "automargin": true,
            "type": "pie"
           }
          ],
          "scatter": [
           {
            "fillpattern": {
             "fillmode": "overlay",
             "size": 10,
             "solidity": 0.2
            },
            "type": "scatter"
           }
          ],
          "scatter3d": [
           {
            "line": {
             "colorbar": {
              "outlinewidth": 0,
              "ticks": ""
             }
            },
            "marker": {
             "colorbar": {
              "outlinewidth": 0,
              "ticks": ""
             }
            },
            "type": "scatter3d"
           }
          ],
          "scattercarpet": [
           {
            "marker": {
             "colorbar": {
              "outlinewidth": 0,
              "ticks": ""
             }
            },
            "type": "scattercarpet"
           }
          ],
          "scattergeo": [
           {
            "marker": {
             "colorbar": {
              "outlinewidth": 0,
              "ticks": ""
             }
            },
            "type": "scattergeo"
           }
          ],
          "scattergl": [
           {
            "marker": {
             "colorbar": {
              "outlinewidth": 0,
              "ticks": ""
             }
            },
            "type": "scattergl"
           }
          ],
          "scattermapbox": [
           {
            "marker": {
             "colorbar": {
              "outlinewidth": 0,
              "ticks": ""
             }
            },
            "type": "scattermapbox"
           }
          ],
          "scatterpolar": [
           {
            "marker": {
             "colorbar": {
              "outlinewidth": 0,
              "ticks": ""
             }
            },
            "type": "scatterpolar"
           }
          ],
          "scatterpolargl": [
           {
            "marker": {
             "colorbar": {
              "outlinewidth": 0,
              "ticks": ""
             }
            },
            "type": "scatterpolargl"
           }
          ],
          "scatterternary": [
           {
            "marker": {
             "colorbar": {
              "outlinewidth": 0,
              "ticks": ""
             }
            },
            "type": "scatterternary"
           }
          ],
          "surface": [
           {
            "colorbar": {
             "outlinewidth": 0,
             "ticks": ""
            },
            "colorscale": [
             [
              0,
              "#0d0887"
             ],
             [
              0.1111111111111111,
              "#46039f"
             ],
             [
              0.2222222222222222,
              "#7201a8"
             ],
             [
              0.3333333333333333,
              "#9c179e"
             ],
             [
              0.4444444444444444,
              "#bd3786"
             ],
             [
              0.5555555555555556,
              "#d8576b"
             ],
             [
              0.6666666666666666,
              "#ed7953"
             ],
             [
              0.7777777777777778,
              "#fb9f3a"
             ],
             [
              0.8888888888888888,
              "#fdca26"
             ],
             [
              1,
              "#f0f921"
             ]
            ],
            "type": "surface"
           }
          ],
          "table": [
           {
            "cells": {
             "fill": {
              "color": "#EBF0F8"
             },
             "line": {
              "color": "white"
             }
            },
            "header": {
             "fill": {
              "color": "#C8D4E3"
             },
             "line": {
              "color": "white"
             }
            },
            "type": "table"
           }
          ]
         },
         "layout": {
          "annotationdefaults": {
           "arrowcolor": "#2a3f5f",
           "arrowhead": 0,
           "arrowwidth": 1
          },
          "autotypenumbers": "strict",
          "coloraxis": {
           "colorbar": {
            "outlinewidth": 0,
            "ticks": ""
           }
          },
          "colorscale": {
           "diverging": [
            [
             0,
             "#8e0152"
            ],
            [
             0.1,
             "#c51b7d"
            ],
            [
             0.2,
             "#de77ae"
            ],
            [
             0.3,
             "#f1b6da"
            ],
            [
             0.4,
             "#fde0ef"
            ],
            [
             0.5,
             "#f7f7f7"
            ],
            [
             0.6,
             "#e6f5d0"
            ],
            [
             0.7,
             "#b8e186"
            ],
            [
             0.8,
             "#7fbc41"
            ],
            [
             0.9,
             "#4d9221"
            ],
            [
             1,
             "#276419"
            ]
           ],
           "sequential": [
            [
             0,
             "#0d0887"
            ],
            [
             0.1111111111111111,
             "#46039f"
            ],
            [
             0.2222222222222222,
             "#7201a8"
            ],
            [
             0.3333333333333333,
             "#9c179e"
            ],
            [
             0.4444444444444444,
             "#bd3786"
            ],
            [
             0.5555555555555556,
             "#d8576b"
            ],
            [
             0.6666666666666666,
             "#ed7953"
            ],
            [
             0.7777777777777778,
             "#fb9f3a"
            ],
            [
             0.8888888888888888,
             "#fdca26"
            ],
            [
             1,
             "#f0f921"
            ]
           ],
           "sequentialminus": [
            [
             0,
             "#0d0887"
            ],
            [
             0.1111111111111111,
             "#46039f"
            ],
            [
             0.2222222222222222,
             "#7201a8"
            ],
            [
             0.3333333333333333,
             "#9c179e"
            ],
            [
             0.4444444444444444,
             "#bd3786"
            ],
            [
             0.5555555555555556,
             "#d8576b"
            ],
            [
             0.6666666666666666,
             "#ed7953"
            ],
            [
             0.7777777777777778,
             "#fb9f3a"
            ],
            [
             0.8888888888888888,
             "#fdca26"
            ],
            [
             1,
             "#f0f921"
            ]
           ]
          },
          "colorway": [
           "#636efa",
           "#EF553B",
           "#00cc96",
           "#ab63fa",
           "#FFA15A",
           "#19d3f3",
           "#FF6692",
           "#B6E880",
           "#FF97FF",
           "#FECB52"
          ],
          "font": {
           "color": "#2a3f5f"
          },
          "geo": {
           "bgcolor": "white",
           "lakecolor": "white",
           "landcolor": "#E5ECF6",
           "showlakes": true,
           "showland": true,
           "subunitcolor": "white"
          },
          "hoverlabel": {
           "align": "left"
          },
          "hovermode": "closest",
          "mapbox": {
           "style": "light"
          },
          "paper_bgcolor": "white",
          "plot_bgcolor": "#E5ECF6",
          "polar": {
           "angularaxis": {
            "gridcolor": "white",
            "linecolor": "white",
            "ticks": ""
           },
           "bgcolor": "#E5ECF6",
           "radialaxis": {
            "gridcolor": "white",
            "linecolor": "white",
            "ticks": ""
           }
          },
          "scene": {
           "xaxis": {
            "backgroundcolor": "#E5ECF6",
            "gridcolor": "white",
            "gridwidth": 2,
            "linecolor": "white",
            "showbackground": true,
            "ticks": "",
            "zerolinecolor": "white"
           },
           "yaxis": {
            "backgroundcolor": "#E5ECF6",
            "gridcolor": "white",
            "gridwidth": 2,
            "linecolor": "white",
            "showbackground": true,
            "ticks": "",
            "zerolinecolor": "white"
           },
           "zaxis": {
            "backgroundcolor": "#E5ECF6",
            "gridcolor": "white",
            "gridwidth": 2,
            "linecolor": "white",
            "showbackground": true,
            "ticks": "",
            "zerolinecolor": "white"
           }
          },
          "shapedefaults": {
           "line": {
            "color": "#2a3f5f"
           }
          },
          "ternary": {
           "aaxis": {
            "gridcolor": "white",
            "linecolor": "white",
            "ticks": ""
           },
           "baxis": {
            "gridcolor": "white",
            "linecolor": "white",
            "ticks": ""
           },
           "bgcolor": "#E5ECF6",
           "caxis": {
            "gridcolor": "white",
            "linecolor": "white",
            "ticks": ""
           }
          },
          "title": {
           "x": 0.05
          },
          "xaxis": {
           "automargin": true,
           "gridcolor": "white",
           "linecolor": "white",
           "ticks": "",
           "title": {
            "standoff": 15
           },
           "zerolinecolor": "white",
           "zerolinewidth": 2
          },
          "yaxis": {
           "automargin": true,
           "gridcolor": "white",
           "linecolor": "white",
           "ticks": "",
           "title": {
            "standoff": 15
           },
           "zerolinecolor": "white",
           "zerolinewidth": 2
          }
         }
        },
        "title": {
         "text": "Interactive Sunburst Chart"
        },
        "width": 800
       }
      },
      "text/html": [
       "<div>                            <div id=\"e316626f-386c-4020-87b4-59bb34060153\" class=\"plotly-graph-div\" style=\"height:800px; width:800px;\"></div>            <script type=\"text/javascript\">                require([\"plotly\"], function(Plotly) {                    window.PLOTLYENV=window.PLOTLYENV || {};                                    if (document.getElementById(\"e316626f-386c-4020-87b4-59bb34060153\")) {                    Plotly.newPlot(                        \"e316626f-386c-4020-87b4-59bb34060153\",                        [{\"branchvalues\":\"total\",\"domain\":{\"x\":[0.0,1.0],\"y\":[0.0,1.0]},\"hovertemplate\":\"labels=%{label}\\u003cbr\\u003ePercentage=%{value}\\u003cbr\\u003eparent=%{parent}\\u003cbr\\u003eid=%{id}\\u003cextra\\u003e\\u003c\\u002fextra\\u003e\",\"ids\":[\"Discovery\\u002fConsuming information\\u002fAI-assisted reading and summarization\",\"Analysis\\u002fMapping data\\u002fAccess to and assistance with GIS software and programming\",\"Analysis\\u002fPerforming network visualization and analysis\\u002fAccess to and assistance with network visualization software (Gephi, Cytoscape) and programming (Python, R)\",\"Analysis\\u002fCoding qualitative data\\u002fAccess to and assistance with qualitative coding software (Nvivo)\",\"Analysis\\u002fApplying a statistical model\\u002fAccess to and assistance with statistical software and programming (SAS, SPSS, Stata, R, Python)\",\"Implementation\\u002fConducting humanities-based research, including archival, DH\\u002fAccess to and guidance navigating archival collections, text corpora\",\"Discovery\\u002fStoring lessons learned and making connections to prior knowledge\\u002fAccess to and training for note-taking and annotation software such as PowerNotes, Obsidian, Zotero\",\"Discovery\\u002fAccess to published research\\u002fAccess to library collections\",\"Application\\u002fIncorporating findings into product design\\u002fApplying for patents\",\"Publishing\\u002fConsidering alternative publishing formats and locations - digital\\u002fAudiovisual production services in Vitale and the Hechtman Studio\",\"Evaluation\\u002fAssessing impact of scholarship\\u002fBibliometrics services\",\"Analysis\\u002fTranscribing media for text analysis\\u002fChoosing transcription tools and services based on affordability, accuracy, and privacy implications\",\"Writing\\u002fAttributions\\u002fCitation management software workshops and consults\",\"Publishing\\u002fConsidering alternative publishing formats and locations - physical (zines, small print runs)\\u002fCommon Press workshops and open hours\",\"Discovery\\u002fLocating relevant published research\\u002fConducting systematic review searches\",\"Planning\\u002fForming a research question\\u002fConsultation with subject librarians\",\"Implementation\\u002fConducting surveys, interviews, or observations\\u002fConsults and workshops on file organization, privacy, and more\",\"Implementation\\u002fConducting surveys, interviews, or observations\\u002fConsults on survey software, e.g. Qualtrics\",\"Publishing\\u002fConsidering alternative publishing formats and locations - digital\\u002fContemporary publishing fellow supports development of multimodal, interactive digital publications and exhibits\",\"Discovery\\u002fLocating relevant published research\\u002fCredibility evaluation assistance\",\"Implementation\\u002fScreening compiled studies for reviews and meta-analyses\\u002fCritical appraisal support\",\"Promotion\\u002fSharing through visualizations and dashboards\\u002fData visualization services\",\"Analysis\\u002fUsing data visualizations as analytic method (e.g. topological analysis)\\u002fData visualization services\",\"Planning\\u002fSetting up documentation infrastructure\\u002fDocumenting search strategy for systematic reviews; documentation of search methods; using documentation areas on GitHub; planning for documentation of archival findings\",\"Writing\\u002fWriting ethics statements\\u002fEvaluating and promoting tools such as EthicsGen - Ethics Statement Generator tool\",\"Preservation\\u002fStoring and preserving print\\u002fFaculty archival deposit at the University Archives\",\"Planning\\u002fPreregistering studies\\u002fFinding and using protocol registries\",\"Promotion\\u002fPresenting work at conferences, workshops, and other forums\\u002fGraphic design software and access to tutorials\",\"Application\\u002fIncorporating findings into product design\\u002fGuidance on market and industry research for product markets\",\"Implementation\\u002fRecruiting and tracking research subjects\\u002fGuidance on participant information management systems (Qualtrics, RedCap)\",\"Planning\\u002fConnect with new collaborators\\u002fIdentification of tools and systems which easily permit collaboration during later phases of research (e.g. QDA software comparison table)\",\"Application\\u002fIncorporating findings into product design\\u002fIdentify products coming out of Penn research facilities and centers\",\"Discovery\\u002fLocating relevant published research\\u002fIncorporating AI and innovative discovery tools into workflow (e.g. R workshop on libsearchr)\",\"Writing\\u002fFormatting\\u002fLaTeX workshops, consults, and templates\",\"Publishing\\u002fNavigating image permissions\\u002fLibGuides and consults from the Copyright Advisor\",\"Planning\\u002fAsking the Libraries to acquire licensed datasets\\u002fLicensed data storage solutions (Box, Redivis) are currently under exploration by one of the strategic teams\",\"Preservation\\u002fPreserving the digital scholarly record\\u002fMembership in digital preservation services (LOCKSS, CLOCKSS, Portico)\",\"Implementation\\u002fCompiling or acquiring datasets\\u002fNavigating complex, large, and unusual file types (bioinformatics, neuroimaging, electronic health records, census data)\",\"Analysis\\u002fChoosing a statistical model\\u002fNone\",\"Implementation\\u002fConducting experimental research and trials\\u002fNone\",\"Planning\\u002fConstructing and documenting a rigorous and reproducible methodology\\u002fNone\",\"Writing\\u002fCopyediting\\u002fNone\",\"Writing\\u002fEthically incorporating AI in writing\\u002fNone\",\"Application\\u002fIncorporating findings into clinical decision-making\\u002fNone\",\"Application\\u002fIncorporating findings into disciplinary evidence-based practice\\u002fNone\",\"Application\\u002fIncorporating findings into policy and legislation\\u002fNone\",\"Promotion\\u002fIncorporating scholarship into tenure and promotion packages\\u002fNone\",\"Writing\\u002fIntegrating notes and original research to produce final product\\u002fNone\",\"Publishing\\u002fNavigating publisher requirements (ORCID, funding disclosures, CREDIT, data availability)\\u002fNone\",\"Publishing\\u002fParticipating in peer review and editorial roles\\u002fNone\",\"Analysis\\u002fPerforming meta-analyses\\u002fNone\",\"Evaluation\\u002fReflecting on future improvements\\u002fNone\",\"Planning\\u002fRequesting access to secure datasets\\u002fNone\",\"Implementation\\u002fRunning simulations and models\\u002fNone\",\"Planning\\u002fSecuring IRB approval\\u002fNone\",\"Promotion\\u002fSharing through public writing\\u002fNone\",\"Promotion\\u002fSharing through social media\\u002fNone\",\"Analysis\\u002fTraditional text analysis (Close reading)\\u002fNone\",\"Application\\u002fTranslational research\\u002fNone\",\"Implementation\\u002fUsing specialized research equipment and software\\u002fNone\",\"Publishing\\u002fControlling authority management\\u002fORCID workshops and consults\",\"Promotion\\u002fPresenting work at conferences, workshops, and other forums\\u002fPoster printing and design service\",\"Planning\\u002fBrainstorming and ideation\\u002fProviding spaces condusive to brainstorming\",\"Planning\\u002fConnect with new collaborators\\u002fRDDS-hosted skills meetups\",\"Discovery\\u002fAccess to published research\\u002fResource sharing\",\"Preservation\\u002fDepositing data and scholarship for long-term storage\\u002fScholarlyCommons and institutional repositorites\",\"Implementation\\u002fCompiling or acquiring datasets\\u002fScraping open data and websites\",\"Discovery\\u002fConsuming information\\u002fSpaces for journal clubs and reading groups\",\"Preservation\\u002fDepositing data and scholarship for long-term storage\\u002fSubscriptions and memberships to external repositories (Dryad, QDR, ICPSR)\",\"Implementation\\u002fCompiling or acquiring datasets\\u002fSupport accessing APIs and constructing API calls\",\"Implementation\\u002fScreening compiled studies for reviews and meta-analyses\\u002fSupport for Covidence, RevMan\",\"Planning\\u002fWriting grant proposals\\u002fSupport for maintaining biosketches on SciENcv and other tools which feed into grant applications\",\"Planning\\u002fPlanning for data management and sharing\\u002fSupport for writing data management sharing plans\",\"Planning\\u002fWriting grant proposals\\u002fSupport for writing data management sharing plans\",\"Planning\\u002fIdentifying funding opportunities\\u002fSupport navigating funding databases\",\"Discovery\\u002fLocating relevant published research\\u002fTraditional search construction assistance\",\"Planning\\u002fIdentifying funding opportunities\\u002fTransformative agreements for APCs\",\"Publishing\\u002fPaying APCs\\u002fTransformative agreements for APCs\",\"Writing\\u002fOriginality and avoiding plagiarism\\u002fTurnItIn software\",\"Implementation\\u002fCreating prototypes and objects\\u002fUse of 3D scanning, sketch software, and printing\",\"Planning\\u002fConnect with new collaborators\\u002fUse of citation databases to find academic collaborators \",\"Planning\\u002fConnect with new collaborators\\u002fUse of nonprofit databases and news sources to find local community partners\",\"Publishing\\u002fChoosing license types, including Creative Commons licenses\\u002fWorkshops and consults from the Copyright Advisor\",\"Publishing\\u002fNegotiating author agreements\\u002fWorkshops and consults from the Copyright Advisor\",\"Publishing\\u002fUnderstanding copyright issues\\u002fWorkshops and consults from the Copyright Advisor\",\"Publishing\\u002fMeeting OA requirements\\u002fWorkshops and consults on OA publishers and depositing preprints\",\"Publishing\\u002fDetermining where to publish\\u002fWorkshops and consults on evaluating publishing outlets for relevance and quality\",\"Analysis\\u002fComputational text analysis\\u002fWorkshops and consults on text analysis tools and methods: topic modeling, text frequency, using NLP models\",\"Analysis\\u002fCleaning data\\u002fWorkshops and consults on using data cleaning principles, tools (OpenRefine, Excel) and programming methods (Python, R)\",\"Planning\\u002fReporting international collaborations and funding\\u002f[external] Guidance on disclosures from OVPR and Penn Global\",\"Planning\\u002fSetting up electronic research notebooks\\u002f[external] LabArchives support\",\"Planning\\u002fConsidering ethics in research design\\u002f[external] Training for working with vulnerable populations (minors, people with disabilities, populations in poverty)\",\"Writing\\u002fOriginality and avoiding plagiarism\\u002f[external] Weingarten &CSA workshops in avoiding plagiarism \",\"Publishing\\u002fScreening for fabricated data and fraud\\u002f[idea] [external] Universities have an opportunity to help conduct pre-emptive fraud screening, especially for junior co-authors\",\"Discovery\\u002fAccess to published research\",\"Analysis\\u002fApplying a statistical model\",\"Planning\\u002fAsking the Libraries to acquire licensed datasets\",\"Evaluation\\u002fAssessing impact of scholarship\",\"Writing\\u002fAttributions\",\"Planning\\u002fBrainstorming and ideation\",\"Analysis\\u002fChoosing a statistical model\",\"Publishing\\u002fChoosing license types, including Creative Commons licenses\",\"Analysis\\u002fCleaning data\",\"Analysis\\u002fCoding qualitative data\",\"Implementation\\u002fCompiling or acquiring datasets\",\"Analysis\\u002fComputational text analysis\",\"Implementation\\u002fConducting experimental research and trials\",\"Implementation\\u002fConducting humanities-based research, including archival, DH\",\"Implementation\\u002fConducting surveys, interviews, or observations\",\"Planning\\u002fConnect with new collaborators\",\"Publishing\\u002fConsidering alternative publishing formats and locations - digital\",\"Publishing\\u002fConsidering alternative publishing formats and locations - physical (zines, small print runs)\",\"Planning\\u002fConsidering ethics in research design\",\"Planning\\u002fConstructing and documenting a rigorous and reproducible methodology\",\"Discovery\\u002fConsuming information\",\"Publishing\\u002fControlling authority management\",\"Writing\\u002fCopyediting\",\"Implementation\\u002fCreating prototypes and objects\",\"Preservation\\u002fDepositing data and scholarship for long-term storage\",\"Publishing\\u002fDetermining where to publish\",\"Writing\\u002fEthically incorporating AI in writing\",\"Writing\\u002fFormatting\",\"Planning\\u002fForming a research question\",\"Planning\\u002fIdentifying funding opportunities\",\"Application\\u002fIncorporating findings into clinical decision-making\",\"Application\\u002fIncorporating findings into disciplinary evidence-based practice\",\"Application\\u002fIncorporating findings into policy and legislation\",\"Application\\u002fIncorporating findings into product design\",\"Promotion\\u002fIncorporating scholarship into tenure and promotion packages\",\"Writing\\u002fIntegrating notes and original research to produce final product\",\"Discovery\\u002fLocating relevant published research\",\"Analysis\\u002fMapping data\",\"Publishing\\u002fMeeting OA requirements\",\"Publishing\\u002fNavigating image permissions\",\"Publishing\\u002fNavigating publisher requirements (ORCID, funding disclosures, CREDIT, data availability)\",\"Publishing\\u002fNegotiating author agreements\",\"Writing\\u002fOriginality and avoiding plagiarism\",\"Publishing\\u002fParticipating in peer review and editorial roles\",\"Publishing\\u002fPaying APCs\",\"Analysis\\u002fPerforming meta-analyses\",\"Analysis\\u002fPerforming network visualization and analysis\",\"Planning\\u002fPlanning for data management and sharing\",\"Planning\\u002fPreregistering studies\",\"Promotion\\u002fPresenting work at conferences, workshops, and other forums\",\"Preservation\\u002fPreserving the digital scholarly record\",\"Implementation\\u002fRecruiting and tracking research subjects\",\"Evaluation\\u002fReflecting on future improvements\",\"Planning\\u002fReporting international collaborations and funding\",\"Planning\\u002fRequesting access to secure datasets\",\"Implementation\\u002fRunning simulations and models\",\"Implementation\\u002fScreening compiled studies for reviews and meta-analyses\",\"Publishing\\u002fScreening for fabricated data and fraud\",\"Planning\\u002fSecuring IRB approval\",\"Planning\\u002fSetting up documentation infrastructure\",\"Planning\\u002fSetting up electronic research notebooks\",\"Promotion\\u002fSharing through public writing\",\"Promotion\\u002fSharing through social media\",\"Promotion\\u002fSharing through visualizations and dashboards\",\"Preservation\\u002fStoring and preserving print\",\"Discovery\\u002fStoring lessons learned and making connections to prior knowledge\",\"Analysis\\u002fTraditional text analysis (Close reading)\",\"Analysis\\u002fTranscribing media for text analysis\",\"Application\\u002fTranslational research\",\"Publishing\\u002fUnderstanding copyright issues\",\"Analysis\\u002fUsing data visualizations as analytic method (e.g. topological analysis)\",\"Implementation\\u002fUsing specialized research equipment and software\",\"Writing\\u002fWriting ethics statements\",\"Planning\\u002fWriting grant proposals\",\"Analysis\",\"Application\",\"Discovery\",\"Evaluation\",\"Implementation\",\"Planning\",\"Preservation\",\"Promotion\",\"Publishing\",\"Writing\"],\"labels\":[\"AI-assisted reading and summarization\",\"Access to and assistance with GIS software and programming\",\"Access to and assistance with network visualization software (Gephi, Cytoscape) and programming (Python, R)\",\"Access to and assistance with qualitative coding software (Nvivo)\",\"Access to and assistance with statistical software and programming (SAS, SPSS, Stata, R, Python)\",\"Access to and guidance navigating archival collections, text corpora\",\"Access to and training for note-taking and annotation software such as PowerNotes, Obsidian, Zotero\",\"Access to library collections\",\"Applying for patents\",\"Audiovisual production services in Vitale and the Hechtman Studio\",\"Bibliometrics services\",\"Choosing transcription tools and services based on affordability, accuracy, and privacy implications\",\"Citation management software workshops and consults\",\"Common Press workshops and open hours\",\"Conducting systematic review searches\",\"Consultation with subject librarians\",\"Consults and workshops on file organization, privacy, and more\",\"Consults on survey software, e.g. Qualtrics\",\"Contemporary publishing fellow supports development of multimodal, interactive digital publications and exhibits\",\"Credibility evaluation assistance\",\"Critical appraisal support\",\"Data visualization services\",\"Data visualization services\",\"Documenting search strategy for systematic reviews; documentation of search methods; using documentation areas on GitHub; planning for documentation of archival findings\",\"Evaluating and promoting tools such as EthicsGen - Ethics Statement Generator tool\",\"Faculty archival deposit at the University Archives\",\"Finding and using protocol registries\",\"Graphic design software and access to tutorials\",\"Guidance on market and industry research for product markets\",\"Guidance on participant information management systems (Qualtrics, RedCap)\",\"Identification of tools and systems which easily permit collaboration during later phases of research (e.g. QDA software comparison table)\",\"Identify products coming out of Penn research facilities and centers\",\"Incorporating AI and innovative discovery tools into workflow (e.g. R workshop on libsearchr)\",\"LaTeX workshops, consults, and templates\",\"LibGuides and consults from the Copyright Advisor\",\"Licensed data storage solutions (Box, Redivis) are currently under exploration by one of the strategic teams\",\"Membership in digital preservation services (LOCKSS, CLOCKSS, Portico)\",\"Navigating complex, large, and unusual file types (bioinformatics, neuroimaging, electronic health records, census data)\",\"None\",\"None\",\"None\",\"None\",\"None\",\"None\",\"None\",\"None\",\"None\",\"None\",\"None\",\"None\",\"None\",\"None\",\"None\",\"None\",\"None\",\"None\",\"None\",\"None\",\"None\",\"None\",\"ORCID workshops and consults\",\"Poster printing and design service\",\"Providing spaces condusive to brainstorming\",\"RDDS-hosted skills meetups\",\"Resource sharing\",\"ScholarlyCommons and institutional repositorites\",\"Scraping open data and websites\",\"Spaces for journal clubs and reading groups\",\"Subscriptions and memberships to external repositories (Dryad, QDR, ICPSR)\",\"Support accessing APIs and constructing API calls\",\"Support for Covidence, RevMan\",\"Support for maintaining biosketches on SciENcv and other tools which feed into grant applications\",\"Support for writing data management sharing plans\",\"Support for writing data management sharing plans\",\"Support navigating funding databases\",\"Traditional search construction assistance\",\"Transformative agreements for APCs\",\"Transformative agreements for APCs\",\"TurnItIn software\",\"Use of 3D scanning, sketch software, and printing\",\"Use of citation databases to find academic collaborators \",\"Use of nonprofit databases and news sources to find local community partners\",\"Workshops and consults from the Copyright Advisor\",\"Workshops and consults from the Copyright Advisor\",\"Workshops and consults from the Copyright Advisor\",\"Workshops and consults on OA publishers and depositing preprints\",\"Workshops and consults on evaluating publishing outlets for relevance and quality\",\"Workshops and consults on text analysis tools and methods: topic modeling, text frequency, using NLP models\",\"Workshops and consults on using data cleaning principles, tools (OpenRefine, Excel) and programming methods (Python, R)\",\"[external] Guidance on disclosures from OVPR and Penn Global\",\"[external] LabArchives support\",\"[external] Training for working with vulnerable populations (minors, people with disabilities, populations in poverty)\",\"[external] Weingarten &CSA workshops in avoiding plagiarism \",\"[idea] [external] Universities have an opportunity to help conduct pre-emptive fraud screening, especially for junior co-authors\",\"Access to published research\",\"Applying a statistical model\",\"Asking the Libraries to acquire licensed datasets\",\"Assessing impact of scholarship\",\"Attributions\",\"Brainstorming and ideation\",\"Choosing a statistical model\",\"Choosing license types, including Creative Commons licenses\",\"Cleaning data\",\"Coding qualitative data\",\"Compiling or acquiring datasets\",\"Computational text analysis\",\"Conducting experimental research and trials\",\"Conducting humanities-based research, including archival, DH\",\"Conducting surveys, interviews, or observations\",\"Connect with new collaborators\",\"Considering alternative publishing formats and locations - digital\",\"Considering alternative publishing formats and locations - physical (zines, small print runs)\",\"Considering ethics in research design\",\"Constructing and documenting a rigorous and reproducible methodology\",\"Consuming information\",\"Controlling authority management\",\"Copyediting\",\"Creating prototypes and objects\",\"Depositing data and scholarship for long-term storage\",\"Determining where to publish\",\"Ethically incorporating AI in writing\",\"Formatting\",\"Forming a research question\",\"Identifying funding opportunities\",\"Incorporating findings into clinical decision-making\",\"Incorporating findings into disciplinary evidence-based practice\",\"Incorporating findings into policy and legislation\",\"Incorporating findings into product design\",\"Incorporating scholarship into tenure and promotion packages\",\"Integrating notes and original research to produce final product\",\"Locating relevant published research\",\"Mapping data\",\"Meeting OA requirements\",\"Navigating image permissions\",\"Navigating publisher requirements (ORCID, funding disclosures, CREDIT, data availability)\",\"Negotiating author agreements\",\"Originality and avoiding plagiarism\",\"Participating in peer review and editorial roles\",\"Paying APCs\",\"Performing meta-analyses\",\"Performing network visualization and analysis\",\"Planning for data management and sharing\",\"Preregistering studies\",\"Presenting work at conferences, workshops, and other forums\",\"Preserving the digital scholarly record\",\"Recruiting and tracking research subjects\",\"Reflecting on future improvements\",\"Reporting international collaborations and funding\",\"Requesting access to secure datasets\",\"Running simulations and models\",\"Screening compiled studies for reviews and meta-analyses\",\"Screening for fabricated data and fraud\",\"Securing IRB approval\",\"Setting up documentation infrastructure\",\"Setting up electronic research notebooks\",\"Sharing through public writing\",\"Sharing through social media\",\"Sharing through visualizations and dashboards\",\"Storing and preserving print\",\"Storing lessons learned and making connections to prior knowledge\",\"Traditional text analysis (Close reading)\",\"Transcribing media for text analysis\",\"Translational research\",\"Understanding copyright issues\",\"Using data visualizations as analytic method (e.g. topological analysis)\",\"Using specialized research equipment and software\",\"Writing ethics statements\",\"Writing grant proposals\",\"Analysis\",\"Application\",\"Discovery\",\"Evaluation\",\"Implementation\",\"Planning\",\"Preservation\",\"Promotion\",\"Publishing\",\"Writing\"],\"name\":\"\",\"parents\":[\"Discovery\\u002fConsuming information\",\"Analysis\\u002fMapping data\",\"Analysis\\u002fPerforming network visualization and analysis\",\"Analysis\\u002fCoding qualitative data\",\"Analysis\\u002fApplying a statistical model\",\"Implementation\\u002fConducting humanities-based research, including archival, DH\",\"Discovery\\u002fStoring lessons learned and making connections to prior knowledge\",\"Discovery\\u002fAccess to published research\",\"Application\\u002fIncorporating findings into product design\",\"Publishing\\u002fConsidering alternative publishing formats and locations - digital\",\"Evaluation\\u002fAssessing impact of scholarship\",\"Analysis\\u002fTranscribing media for text analysis\",\"Writing\\u002fAttributions\",\"Publishing\\u002fConsidering alternative publishing formats and locations - physical (zines, small print runs)\",\"Discovery\\u002fLocating relevant published research\",\"Planning\\u002fForming a research question\",\"Implementation\\u002fConducting surveys, interviews, or observations\",\"Implementation\\u002fConducting surveys, interviews, or observations\",\"Publishing\\u002fConsidering alternative publishing formats and locations - digital\",\"Discovery\\u002fLocating relevant published research\",\"Implementation\\u002fScreening compiled studies for reviews and meta-analyses\",\"Promotion\\u002fSharing through visualizations and dashboards\",\"Analysis\\u002fUsing data visualizations as analytic method (e.g. topological analysis)\",\"Planning\\u002fSetting up documentation infrastructure\",\"Writing\\u002fWriting ethics statements\",\"Preservation\\u002fStoring and preserving print\",\"Planning\\u002fPreregistering studies\",\"Promotion\\u002fPresenting work at conferences, workshops, and other forums\",\"Application\\u002fIncorporating findings into product design\",\"Implementation\\u002fRecruiting and tracking research subjects\",\"Planning\\u002fConnect with new collaborators\",\"Application\\u002fIncorporating findings into product design\",\"Discovery\\u002fLocating relevant published research\",\"Writing\\u002fFormatting\",\"Publishing\\u002fNavigating image permissions\",\"Planning\\u002fAsking the Libraries to acquire licensed datasets\",\"Preservation\\u002fPreserving the digital scholarly record\",\"Implementation\\u002fCompiling or acquiring datasets\",\"Analysis\\u002fChoosing a statistical model\",\"Implementation\\u002fConducting experimental research and trials\",\"Planning\\u002fConstructing and documenting a rigorous and reproducible methodology\",\"Writing\\u002fCopyediting\",\"Writing\\u002fEthically incorporating AI in writing\",\"Application\\u002fIncorporating findings into clinical decision-making\",\"Application\\u002fIncorporating findings into disciplinary evidence-based practice\",\"Application\\u002fIncorporating findings into policy and legislation\",\"Promotion\\u002fIncorporating scholarship into tenure and promotion packages\",\"Writing\\u002fIntegrating notes and original research to produce final product\",\"Publishing\\u002fNavigating publisher requirements (ORCID, funding disclosures, CREDIT, data availability)\",\"Publishing\\u002fParticipating in peer review and editorial roles\",\"Analysis\\u002fPerforming meta-analyses\",\"Evaluation\\u002fReflecting on future improvements\",\"Planning\\u002fRequesting access to secure datasets\",\"Implementation\\u002fRunning simulations and models\",\"Planning\\u002fSecuring IRB approval\",\"Promotion\\u002fSharing through public writing\",\"Promotion\\u002fSharing through social media\",\"Analysis\\u002fTraditional text analysis (Close reading)\",\"Application\\u002fTranslational research\",\"Implementation\\u002fUsing specialized research equipment and software\",\"Publishing\\u002fControlling authority management\",\"Promotion\\u002fPresenting work at conferences, workshops, and other forums\",\"Planning\\u002fBrainstorming and ideation\",\"Planning\\u002fConnect with new collaborators\",\"Discovery\\u002fAccess to published research\",\"Preservation\\u002fDepositing data and scholarship for long-term storage\",\"Implementation\\u002fCompiling or acquiring datasets\",\"Discovery\\u002fConsuming information\",\"Preservation\\u002fDepositing data and scholarship for long-term storage\",\"Implementation\\u002fCompiling or acquiring datasets\",\"Implementation\\u002fScreening compiled studies for reviews and meta-analyses\",\"Planning\\u002fWriting grant proposals\",\"Planning\\u002fPlanning for data management and sharing\",\"Planning\\u002fWriting grant proposals\",\"Planning\\u002fIdentifying funding opportunities\",\"Discovery\\u002fLocating relevant published research\",\"Planning\\u002fIdentifying funding opportunities\",\"Publishing\\u002fPaying APCs\",\"Writing\\u002fOriginality and avoiding plagiarism\",\"Implementation\\u002fCreating prototypes and objects\",\"Planning\\u002fConnect with new collaborators\",\"Planning\\u002fConnect with new collaborators\",\"Publishing\\u002fChoosing license types, including Creative Commons licenses\",\"Publishing\\u002fNegotiating author agreements\",\"Publishing\\u002fUnderstanding copyright issues\",\"Publishing\\u002fMeeting OA requirements\",\"Publishing\\u002fDetermining where to publish\",\"Analysis\\u002fComputational text analysis\",\"Analysis\\u002fCleaning data\",\"Planning\\u002fReporting international collaborations and funding\",\"Planning\\u002fSetting up electronic research notebooks\",\"Planning\\u002fConsidering ethics in research design\",\"Writing\\u002fOriginality and avoiding plagiarism\",\"Publishing\\u002fScreening for fabricated data and fraud\",\"Discovery\",\"Analysis\",\"Planning\",\"Evaluation\",\"Writing\",\"Planning\",\"Analysis\",\"Publishing\",\"Analysis\",\"Analysis\",\"Implementation\",\"Analysis\",\"Implementation\",\"Implementation\",\"Implementation\",\"Planning\",\"Publishing\",\"Publishing\",\"Planning\",\"Planning\",\"Discovery\",\"Publishing\",\"Writing\",\"Implementation\",\"Preservation\",\"Publishing\",\"Writing\",\"Writing\",\"Planning\",\"Planning\",\"Application\",\"Application\",\"Application\",\"Application\",\"Promotion\",\"Writing\",\"Discovery\",\"Analysis\",\"Publishing\",\"Publishing\",\"Publishing\",\"Publishing\",\"Writing\",\"Publishing\",\"Publishing\",\"Analysis\",\"Analysis\",\"Planning\",\"Planning\",\"Promotion\",\"Preservation\",\"Implementation\",\"Evaluation\",\"Planning\",\"Planning\",\"Implementation\",\"Implementation\",\"Publishing\",\"Planning\",\"Planning\",\"Planning\",\"Promotion\",\"Promotion\",\"Promotion\",\"Preservation\",\"Discovery\",\"Analysis\",\"Analysis\",\"Application\",\"Publishing\",\"Analysis\",\"Implementation\",\"Writing\",\"Planning\",\"\",\"\",\"\",\"\",\"\",\"\",\"\",\"\",\"\",\"\"],\"values\":[1,1,1,1,1,1,1,1,1,1,1,1,1,1,1,1,1,1,1,1,1,1,1,1,1,1,1,1,1,1,1,1,1,1,1,1,1,1,0,0,0,0,0,0,0,0,0,0,0,0,0,1,0,0,0,0,0,0,0,0,1,1,1,1,1,1,1,1,1,1,1,1,1,1,1,1,1,1,1,1,1,1,1,1,1,1,1,1,1,1,1,1,1,1,2,1,1,1,1,1,0,1,1,1,3,1,0,1,2,4,2,1,1,0,2,1,0,1,2,1,0,1,1,2,0,0,0,3,0,0,4,1,1,1,0,1,2,0,1,0,1,1,1,2,1,1,1,1,0,0,2,1,0,1,1,0,0,1,1,1,0,1,0,1,1,0,1,2,8,3,9,2,10,17,4,3,12,5],\"type\":\"sunburst\"}],                        {\"template\":{\"data\":{\"histogram2dcontour\":[{\"type\":\"histogram2dcontour\",\"colorbar\":{\"outlinewidth\":0,\"ticks\":\"\"},\"colorscale\":[[0.0,\"#0d0887\"],[0.1111111111111111,\"#46039f\"],[0.2222222222222222,\"#7201a8\"],[0.3333333333333333,\"#9c179e\"],[0.4444444444444444,\"#bd3786\"],[0.5555555555555556,\"#d8576b\"],[0.6666666666666666,\"#ed7953\"],[0.7777777777777778,\"#fb9f3a\"],[0.8888888888888888,\"#fdca26\"],[1.0,\"#f0f921\"]]}],\"choropleth\":[{\"type\":\"choropleth\",\"colorbar\":{\"outlinewidth\":0,\"ticks\":\"\"}}],\"histogram2d\":[{\"type\":\"histogram2d\",\"colorbar\":{\"outlinewidth\":0,\"ticks\":\"\"},\"colorscale\":[[0.0,\"#0d0887\"],[0.1111111111111111,\"#46039f\"],[0.2222222222222222,\"#7201a8\"],[0.3333333333333333,\"#9c179e\"],[0.4444444444444444,\"#bd3786\"],[0.5555555555555556,\"#d8576b\"],[0.6666666666666666,\"#ed7953\"],[0.7777777777777778,\"#fb9f3a\"],[0.8888888888888888,\"#fdca26\"],[1.0,\"#f0f921\"]]}],\"heatmap\":[{\"type\":\"heatmap\",\"colorbar\":{\"outlinewidth\":0,\"ticks\":\"\"},\"colorscale\":[[0.0,\"#0d0887\"],[0.1111111111111111,\"#46039f\"],[0.2222222222222222,\"#7201a8\"],[0.3333333333333333,\"#9c179e\"],[0.4444444444444444,\"#bd3786\"],[0.5555555555555556,\"#d8576b\"],[0.6666666666666666,\"#ed7953\"],[0.7777777777777778,\"#fb9f3a\"],[0.8888888888888888,\"#fdca26\"],[1.0,\"#f0f921\"]]}],\"heatmapgl\":[{\"type\":\"heatmapgl\",\"colorbar\":{\"outlinewidth\":0,\"ticks\":\"\"},\"colorscale\":[[0.0,\"#0d0887\"],[0.1111111111111111,\"#46039f\"],[0.2222222222222222,\"#7201a8\"],[0.3333333333333333,\"#9c179e\"],[0.4444444444444444,\"#bd3786\"],[0.5555555555555556,\"#d8576b\"],[0.6666666666666666,\"#ed7953\"],[0.7777777777777778,\"#fb9f3a\"],[0.8888888888888888,\"#fdca26\"],[1.0,\"#f0f921\"]]}],\"contourcarpet\":[{\"type\":\"contourcarpet\",\"colorbar\":{\"outlinewidth\":0,\"ticks\":\"\"}}],\"contour\":[{\"type\":\"contour\",\"colorbar\":{\"outlinewidth\":0,\"ticks\":\"\"},\"colorscale\":[[0.0,\"#0d0887\"],[0.1111111111111111,\"#46039f\"],[0.2222222222222222,\"#7201a8\"],[0.3333333333333333,\"#9c179e\"],[0.4444444444444444,\"#bd3786\"],[0.5555555555555556,\"#d8576b\"],[0.6666666666666666,\"#ed7953\"],[0.7777777777777778,\"#fb9f3a\"],[0.8888888888888888,\"#fdca26\"],[1.0,\"#f0f921\"]]}],\"surface\":[{\"type\":\"surface\",\"colorbar\":{\"outlinewidth\":0,\"ticks\":\"\"},\"colorscale\":[[0.0,\"#0d0887\"],[0.1111111111111111,\"#46039f\"],[0.2222222222222222,\"#7201a8\"],[0.3333333333333333,\"#9c179e\"],[0.4444444444444444,\"#bd3786\"],[0.5555555555555556,\"#d8576b\"],[0.6666666666666666,\"#ed7953\"],[0.7777777777777778,\"#fb9f3a\"],[0.8888888888888888,\"#fdca26\"],[1.0,\"#f0f921\"]]}],\"mesh3d\":[{\"type\":\"mesh3d\",\"colorbar\":{\"outlinewidth\":0,\"ticks\":\"\"}}],\"scatter\":[{\"fillpattern\":{\"fillmode\":\"overlay\",\"size\":10,\"solidity\":0.2},\"type\":\"scatter\"}],\"parcoords\":[{\"type\":\"parcoords\",\"line\":{\"colorbar\":{\"outlinewidth\":0,\"ticks\":\"\"}}}],\"scatterpolargl\":[{\"type\":\"scatterpolargl\",\"marker\":{\"colorbar\":{\"outlinewidth\":0,\"ticks\":\"\"}}}],\"bar\":[{\"error_x\":{\"color\":\"#2a3f5f\"},\"error_y\":{\"color\":\"#2a3f5f\"},\"marker\":{\"line\":{\"color\":\"#E5ECF6\",\"width\":0.5},\"pattern\":{\"fillmode\":\"overlay\",\"size\":10,\"solidity\":0.2}},\"type\":\"bar\"}],\"scattergeo\":[{\"type\":\"scattergeo\",\"marker\":{\"colorbar\":{\"outlinewidth\":0,\"ticks\":\"\"}}}],\"scatterpolar\":[{\"type\":\"scatterpolar\",\"marker\":{\"colorbar\":{\"outlinewidth\":0,\"ticks\":\"\"}}}],\"histogram\":[{\"marker\":{\"pattern\":{\"fillmode\":\"overlay\",\"size\":10,\"solidity\":0.2}},\"type\":\"histogram\"}],\"scattergl\":[{\"type\":\"scattergl\",\"marker\":{\"colorbar\":{\"outlinewidth\":0,\"ticks\":\"\"}}}],\"scatter3d\":[{\"type\":\"scatter3d\",\"line\":{\"colorbar\":{\"outlinewidth\":0,\"ticks\":\"\"}},\"marker\":{\"colorbar\":{\"outlinewidth\":0,\"ticks\":\"\"}}}],\"scattermapbox\":[{\"type\":\"scattermapbox\",\"marker\":{\"colorbar\":{\"outlinewidth\":0,\"ticks\":\"\"}}}],\"scatterternary\":[{\"type\":\"scatterternary\",\"marker\":{\"colorbar\":{\"outlinewidth\":0,\"ticks\":\"\"}}}],\"scattercarpet\":[{\"type\":\"scattercarpet\",\"marker\":{\"colorbar\":{\"outlinewidth\":0,\"ticks\":\"\"}}}],\"carpet\":[{\"aaxis\":{\"endlinecolor\":\"#2a3f5f\",\"gridcolor\":\"white\",\"linecolor\":\"white\",\"minorgridcolor\":\"white\",\"startlinecolor\":\"#2a3f5f\"},\"baxis\":{\"endlinecolor\":\"#2a3f5f\",\"gridcolor\":\"white\",\"linecolor\":\"white\",\"minorgridcolor\":\"white\",\"startlinecolor\":\"#2a3f5f\"},\"type\":\"carpet\"}],\"table\":[{\"cells\":{\"fill\":{\"color\":\"#EBF0F8\"},\"line\":{\"color\":\"white\"}},\"header\":{\"fill\":{\"color\":\"#C8D4E3\"},\"line\":{\"color\":\"white\"}},\"type\":\"table\"}],\"barpolar\":[{\"marker\":{\"line\":{\"color\":\"#E5ECF6\",\"width\":0.5},\"pattern\":{\"fillmode\":\"overlay\",\"size\":10,\"solidity\":0.2}},\"type\":\"barpolar\"}],\"pie\":[{\"automargin\":true,\"type\":\"pie\"}]},\"layout\":{\"autotypenumbers\":\"strict\",\"colorway\":[\"#636efa\",\"#EF553B\",\"#00cc96\",\"#ab63fa\",\"#FFA15A\",\"#19d3f3\",\"#FF6692\",\"#B6E880\",\"#FF97FF\",\"#FECB52\"],\"font\":{\"color\":\"#2a3f5f\"},\"hovermode\":\"closest\",\"hoverlabel\":{\"align\":\"left\"},\"paper_bgcolor\":\"white\",\"plot_bgcolor\":\"#E5ECF6\",\"polar\":{\"bgcolor\":\"#E5ECF6\",\"angularaxis\":{\"gridcolor\":\"white\",\"linecolor\":\"white\",\"ticks\":\"\"},\"radialaxis\":{\"gridcolor\":\"white\",\"linecolor\":\"white\",\"ticks\":\"\"}},\"ternary\":{\"bgcolor\":\"#E5ECF6\",\"aaxis\":{\"gridcolor\":\"white\",\"linecolor\":\"white\",\"ticks\":\"\"},\"baxis\":{\"gridcolor\":\"white\",\"linecolor\":\"white\",\"ticks\":\"\"},\"caxis\":{\"gridcolor\":\"white\",\"linecolor\":\"white\",\"ticks\":\"\"}},\"coloraxis\":{\"colorbar\":{\"outlinewidth\":0,\"ticks\":\"\"}},\"colorscale\":{\"sequential\":[[0.0,\"#0d0887\"],[0.1111111111111111,\"#46039f\"],[0.2222222222222222,\"#7201a8\"],[0.3333333333333333,\"#9c179e\"],[0.4444444444444444,\"#bd3786\"],[0.5555555555555556,\"#d8576b\"],[0.6666666666666666,\"#ed7953\"],[0.7777777777777778,\"#fb9f3a\"],[0.8888888888888888,\"#fdca26\"],[1.0,\"#f0f921\"]],\"sequentialminus\":[[0.0,\"#0d0887\"],[0.1111111111111111,\"#46039f\"],[0.2222222222222222,\"#7201a8\"],[0.3333333333333333,\"#9c179e\"],[0.4444444444444444,\"#bd3786\"],[0.5555555555555556,\"#d8576b\"],[0.6666666666666666,\"#ed7953\"],[0.7777777777777778,\"#fb9f3a\"],[0.8888888888888888,\"#fdca26\"],[1.0,\"#f0f921\"]],\"diverging\":[[0,\"#8e0152\"],[0.1,\"#c51b7d\"],[0.2,\"#de77ae\"],[0.3,\"#f1b6da\"],[0.4,\"#fde0ef\"],[0.5,\"#f7f7f7\"],[0.6,\"#e6f5d0\"],[0.7,\"#b8e186\"],[0.8,\"#7fbc41\"],[0.9,\"#4d9221\"],[1,\"#276419\"]]},\"xaxis\":{\"gridcolor\":\"white\",\"linecolor\":\"white\",\"ticks\":\"\",\"title\":{\"standoff\":15},\"zerolinecolor\":\"white\",\"automargin\":true,\"zerolinewidth\":2},\"yaxis\":{\"gridcolor\":\"white\",\"linecolor\":\"white\",\"ticks\":\"\",\"title\":{\"standoff\":15},\"zerolinecolor\":\"white\",\"automargin\":true,\"zerolinewidth\":2},\"scene\":{\"xaxis\":{\"backgroundcolor\":\"#E5ECF6\",\"gridcolor\":\"white\",\"linecolor\":\"white\",\"showbackground\":true,\"ticks\":\"\",\"zerolinecolor\":\"white\",\"gridwidth\":2},\"yaxis\":{\"backgroundcolor\":\"#E5ECF6\",\"gridcolor\":\"white\",\"linecolor\":\"white\",\"showbackground\":true,\"ticks\":\"\",\"zerolinecolor\":\"white\",\"gridwidth\":2},\"zaxis\":{\"backgroundcolor\":\"#E5ECF6\",\"gridcolor\":\"white\",\"linecolor\":\"white\",\"showbackground\":true,\"ticks\":\"\",\"zerolinecolor\":\"white\",\"gridwidth\":2}},\"shapedefaults\":{\"line\":{\"color\":\"#2a3f5f\"}},\"annotationdefaults\":{\"arrowcolor\":\"#2a3f5f\",\"arrowhead\":0,\"arrowwidth\":1},\"geo\":{\"bgcolor\":\"white\",\"landcolor\":\"#E5ECF6\",\"subunitcolor\":\"white\",\"showland\":true,\"showlakes\":true,\"lakecolor\":\"white\"},\"title\":{\"x\":0.05},\"mapbox\":{\"style\":\"light\"}}},\"legend\":{\"tracegroupgap\":0},\"title\":{\"text\":\"Interactive Sunburst Chart\"},\"height\":800,\"width\":800},                        {\"responsive\": true}                    ).then(function(){\n",
       "                            \n",
       "var gd = document.getElementById('e316626f-386c-4020-87b4-59bb34060153');\n",
       "var x = new MutationObserver(function (mutations, observer) {{\n",
       "        var display = window.getComputedStyle(gd).display;\n",
       "        if (!display || display === 'none') {{\n",
       "            console.log([gd, 'removed!']);\n",
       "            Plotly.purge(gd);\n",
       "            observer.disconnect();\n",
       "        }}\n",
       "}});\n",
       "\n",
       "// Listen for the removal of the full notebook cells\n",
       "var notebookContainer = gd.closest('#notebook-container');\n",
       "if (notebookContainer) {{\n",
       "    x.observe(notebookContainer, {childList: true});\n",
       "}}\n",
       "\n",
       "// Listen for the clearing of the current output cell\n",
       "var outputEl = gd.closest('.output');\n",
       "if (outputEl) {{\n",
       "    x.observe(outputEl, {childList: true});\n",
       "}}\n",
       "\n",
       "                        })                };                });            </script>        </div>"
      ]
     },
     "metadata": {},
     "output_type": "display_data"
    }
   ],
   "source": [
    "import pandas as pd\n",
    "import plotly.express as px\n",
    "\n",
    "start_row = 0  # Include the header row\n",
    "end_row = 94  # Include the last row of the dataset\n",
    "\n",
    "# Assuming you have an Excel file named 'data.xlsx' with a sheet named 'sunburst_data'\n",
    "df = pd.read_excel('Sunburst_20231206.xlsx', sheet_name='sunburst_data', nrows=end_row, skiprows=start_row)\n",
    "\n",
    "fig = px.sunburst(df, path=['Domain', 'Need', 'Service'], values='Percentage',\n",
    "                  title='Interactive Sunburst Chart',\n",
    "                  width=800, height=800\n",
    "                  )\n",
    "\n",
    "\n",
    "fig.show()\n"
   ]
  },
  {
   "cell_type": "code",
   "execution_count": 2,
   "id": "5ec00821",
   "metadata": {},
   "outputs": [
    {
     "name": "stdout",
     "output_type": "stream",
     "text": [
      "Domain                               Evaluation\n",
      "Need          Reflecting on future improvements\n",
      "Service                                     NaN\n",
      "Percentage                                  1.0\n",
      "Name: 93, dtype: object\n"
     ]
    }
   ],
   "source": [
    "print(df.iloc[93])\n"
   ]
  },
  {
   "cell_type": "code",
   "execution_count": 3,
   "id": "d260f494",
   "metadata": {},
   "outputs": [
    {
     "name": "stdout",
     "output_type": "stream",
     "text": [
      "Domain        NaN\n",
      "Need          NaN\n",
      "Service       NaN\n",
      "Percentage    NaN\n",
      "Name: 94, dtype: object\n"
     ]
    }
   ],
   "source": [
    "print(df.iloc[94])\n"
   ]
  },
  {
   "cell_type": "code",
   "execution_count": null,
   "id": "75b94213",
   "metadata": {},
   "outputs": [],
   "source": []
  }
 ],
 "metadata": {
  "kernelspec": {
   "display_name": "Python 3 (ipykernel)",
   "language": "python",
   "name": "python3"
  },
  "language_info": {
   "codemirror_mode": {
    "name": "ipython",
    "version": 3
   },
   "file_extension": ".py",
   "mimetype": "text/x-python",
   "name": "python",
   "nbconvert_exporter": "python",
   "pygments_lexer": "ipython3",
   "version": "3.9.7"
  }
 },
 "nbformat": 4,
 "nbformat_minor": 5
}
